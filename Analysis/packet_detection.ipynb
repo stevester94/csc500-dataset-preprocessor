{
 "cells": [
  {
   "cell_type": "code",
   "execution_count": 1,
   "id": "a2800c80",
   "metadata": {},
   "outputs": [],
   "source": [
    "import numpy as np\n",
    "import matplotlib.pyplot as plt"
   ]
  },
  {
   "cell_type": "code",
   "execution_count": 2,
   "id": "24cd3c61",
   "metadata": {},
   "outputs": [],
   "source": [
    "path = \"/mnt/wd500GB/CSC500/csc500-super-repo/datasets/KRI-16Devices-RawData/14ft/WiFi_air_X310_3123D52_14ft_run1.sigmf-data\"\n",
    "path = \"./5_fake_packets.bin\"\n",
    "with open(path, \"r+\") as f:\n",
    "    x = np.memmap(f, np.cdouble)"
   ]
  },
  {
   "cell_type": "code",
   "execution_count": 3,
   "id": "1f593859",
   "metadata": {},
   "outputs": [
    {
     "data": {
      "text/plain": [
       "(142000,)"
      ]
     },
     "execution_count": 3,
     "metadata": {},
     "output_type": "execute_result"
    }
   ],
   "source": [
    "x.shape"
   ]
  },
  {
   "cell_type": "code",
   "execution_count": 4,
   "id": "d2a662c8",
   "metadata": {},
   "outputs": [
    {
     "name": "stderr",
     "output_type": "stream",
     "text": [
      "/mnt/wd500GB/CSC500/csc500-super-repo/csc500-homenet-experiments/analysis/venv/lib/python3.8/site-packages/matplotlib/collections.py:200: ComplexWarning: Casting complex values to real discards the imaginary part\n",
      "  offsets = np.asanyarray(offsets, float)\n"
     ]
    },
    {
     "data": {
      "image/png": "[encoded data removed]",
      "text/plain": [
       "<Figure size 432x288 with 1 Axes>"
      ]
     },
     "metadata": {
      "needs_background": "light"
     },
     "output_type": "display_data"
    }
   ],
   "source": [
    "plt.scatter(range(len(x[:1000])), x[:1000],)\n",
    "plt.show()"
   ]
  },
  {
   "cell_type": "code",
   "execution_count": 13,
   "id": "fc26f0eb",
   "metadata": {},
   "outputs": [
    {
     "name": "stdout",
     "output_type": "stream",
     "text": [
      "Samples per short training sequence: 16\n"
     ]
    },
    {
     "data": {
      "text/plain": [
       "(141969,)"
      ]
     },
     "execution_count": 13,
     "metadata": {},
     "output_type": "execute_result"
    }
   ],
   "source": [
    "# Manual\n",
    "# window_size = (4,)\n",
    "# delay_samples = 4\n",
    "\n",
    "# Auto\n",
    "sample_rate = 20e6\n",
    "samples_per_short_training_sequence = int(sample_rate * 0.8e-6)\n",
    "window_size = (samples_per_short_training_sequence,)\n",
    "delay_samples = samples_per_short_training_sequence\n",
    "print(\"Samples per short training sequence:\", samples_per_short_training_sequence)\n",
    "\n",
    "# Get windowed views into the unchanged Rx, and the delayed Rx\n",
    "w = np.lib.stride_tricks.sliding_window_view(x, window_size)[delay_samples:]\n",
    "w_d = np.lib.stride_tricks.sliding_window_view(x[:-delay_samples], window_size)\n",
    "\n",
    "w_d = np.conjugate(w_d)\n",
    "c = np.multiply(w, w_d)\n",
    "\n",
    "c = np.sum(c, axis=1)\n",
    "c.shape"
   ]
  },
  {
   "cell_type": "code",
   "execution_count": 14,
   "id": "ba5e3d41",
   "metadata": {},
   "outputs": [
    {
     "data": {
      "text/plain": [
       "(141969,)"
      ]
     },
     "execution_count": 14,
     "metadata": {},
     "output_type": "execute_result"
    }
   ],
   "source": [
    "p = np.multiply(w, w.conjugate())\n",
    "p = np.sum(p, axis=1)\n",
    "p.shape"
   ]
  },
  {
   "cell_type": "code",
   "execution_count": 15,
   "id": "c094de25",
   "metadata": {},
   "outputs": [
    {
     "name": "stderr",
     "output_type": "stream",
     "text": [
      "/tmp/ipykernel_116339/1017408734.py:4: RuntimeWarning: invalid value encountered in true_divide\n",
      "  m = np.divide(top, bottom)\n"
     ]
    },
    {
     "data": {
      "text/plain": [
       "(141969,)"
      ]
     },
     "execution_count": 15,
     "metadata": {},
     "output_type": "execute_result"
    }
   ],
   "source": [
    "top = np.multiply(c, c.conjugate())\n",
    "bottom = np.multiply(p, p)\n",
    "\n",
    "m = np.divide(top, bottom)\n",
    "m.shape"
   ]
  },
  {
   "cell_type": "code",
   "execution_count": 16,
   "id": "d5d05db5",
   "metadata": {},
   "outputs": [
    {
     "name": "stderr",
     "output_type": "stream",
     "text": [
      "/mnt/wd500GB/CSC500/csc500-super-repo/csc500-homenet-experiments/analysis/venv/lib/python3.8/site-packages/matplotlib/cbook/__init__.py:1298: ComplexWarning: Casting complex values to real discards the imaginary part\n",
      "  return np.asarray(x, float)\n"
     ]
    },
    {
     "data": {
      "text/plain": [
       "[<matplotlib.lines.Line2D at 0x7f1189335670>]"
      ]
     },
     "execution_count": 16,
     "metadata": {},
     "output_type": "execute_result"
    },
    {
     "data": {
      "image/png": "[encoded data removed]",
      "text/plain": [
       "<Figure size 432x288 with 1 Axes>"
      ]
     },
     "metadata": {
      "needs_background": "light"
     },
     "output_type": "display_data"
    }
   ],
   "source": [
    "plt.plot(range(len(m)), m)\n",
    "\n",
    "# r = 5000\n",
    "# plt.plot(range(r), m[:r])\n",
    "# plt.scatter(range(r), m[:r], s=0.20)"
   ]
  },
  {
   "cell_type": "markdown",
   "id": "5acff479",
   "metadata": {},
   "source": [
    "# Ok I'll do it the hard way"
   ]
  },
  {
   "cell_type": "code",
   "execution_count": 18,
   "id": "85b1b583",
   "metadata": {},
   "outputs": [
    {
     "name": "stdout",
     "output_type": "stream",
     "text": [
      "Samples per short training sequence: 16\n"
     ]
    }
   ],
   "source": [
    "sample_rate = 20e6\n",
    "samples_per_short_training_sequence = int(sample_rate * 0.8e-6)\n",
    "window_size = (samples_per_short_training_sequence,)\n",
    "delay_samples = samples_per_short_training_sequence\n",
    "print(\"Samples per short training sequence:\", samples_per_short_training_sequence)"
   ]
  },
  {
   "cell_type": "code",
   "execution_count": 24,
   "id": "45141c06",
   "metadata": {},
   "outputs": [],
   "source": [
    "D = samples_per_short_training_sequence\n",
    "# We lose a bit due to the delay, we could pad the output with zeros to compensate\n",
    "c = []\n",
    "for n in range(len(x) - 2*D):\n",
    "    val = 0+0j\n",
    "    for k in range(D):\n",
    "        val += x[n+k] * x[n+k+D].conjugate()\n",
    "    c.append(val)\n",
    "c = np.asarray(c, np.cdouble)\n",
    "    \n",
    "p = []\n",
    "for n in range(len(x) - 2*D):\n",
    "    val = 0+0j\n",
    "    for k in range(D):\n",
    "        val += x[n+k+D] * x[n+k+D].conjugate()\n",
    "    p.append(val)\n",
    "p = np.asarray(p, np.cdouble)"
   ]
  },
  {
   "cell_type": "code",
   "execution_count": 25,
   "id": "ec70a7dd",
   "metadata": {},
   "outputs": [
    {
     "name": "stderr",
     "output_type": "stream",
     "text": [
      "/tmp/ipykernel_116339/1017408734.py:4: RuntimeWarning: invalid value encountered in true_divide\n",
      "  m = np.divide(top, bottom)\n"
     ]
    },
    {
     "data": {
      "text/plain": [
       "(141968,)"
      ]
     },
     "execution_count": 25,
     "metadata": {},
     "output_type": "execute_result"
    }
   ],
   "source": [
    "top = np.multiply(c, c.conjugate())\n",
    "bottom = np.multiply(p, p)\n",
    "\n",
    "m = np.divide(top, bottom)\n",
    "m.shape"
   ]
  },
  {
   "cell_type": "code",
   "execution_count": 26,
   "id": "9406f206",
   "metadata": {},
   "outputs": [
    {
     "name": "stderr",
     "output_type": "stream",
     "text": [
      "/mnt/wd500GB/CSC500/csc500-super-repo/csc500-homenet-experiments/analysis/venv/lib/python3.8/site-packages/matplotlib/cbook/__init__.py:1298: ComplexWarning: Casting complex values to real discards the imaginary part\n",
      "  return np.asarray(x, float)\n"
     ]
    },
    {
     "data": {
      "text/plain": [
       "[<matplotlib.lines.Line2D at 0x7f118931bfa0>]"
      ]
     },
     "execution_count": 26,
     "metadata": {},
     "output_type": "execute_result"
    },
    {
     "data": {
      "image/png": "[encoded data removed]",
      "text/plain": [
       "<Figure size 432x288 with 1 Axes>"
      ]
     },
     "metadata": {
      "needs_background": "light"
     },
     "output_type": "display_data"
    }
   ],
   "source": [
    "plt.plot(range(len(m)), m)"
   ]
  }
 ],
 "metadata": {
  "kernelspec": {
   "display_name": "Python 3 (ipykernel)",
   "language": "python",
   "name": "python3"
  },
  "language_info": {
   "codemirror_mode": {
    "name": "ipython",
    "version": 3
   },
   "file_extension": ".py",
   "mimetype": "text/x-python",
   "name": "python",
   "nbconvert_exporter": "python",
   "pygments_lexer": "ipython3",
   "version": "3.8.10"
  }
 },
 "nbformat": 4,
 "nbformat_minor": 5
}
