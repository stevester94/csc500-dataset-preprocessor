{
 "cells": [
  {
   "cell_type": "markdown",
   "id": "9a04055b",
   "metadata": {},
   "source": [
    "# Get the data"
   ]
  },
  {
   "cell_type": "code",
   "execution_count": 1,
   "id": "80fdee2e-b2fc-4fef-9b7e-92dd46837085",
   "metadata": {},
   "outputs": [],
   "source": [
    "import numpy as np\n",
    "import pickle\n",
    "import os\n",
    "from steves_utils.CORES.utils import (\n",
    "    node_name_to_id,\n",
    "    ALL_NODES,\n",
    "    ALL_DAYS\n",
    ")\n",
    "\n",
    "from steves_utils.utils_v2 import (norm, get_datasets_base_path)\n",
    "from steves_utils.stratified_dataset.traditional_accessor import Traditional_Accessor_Factory\n",
    "\n",
    "import matplotlib.pyplot as plt"
   ]
  },
  {
   "cell_type": "code",
   "execution_count": 2,
   "id": "6dfe4db9-d9d8-4ff8-865d-bcdf00d6fac3",
   "metadata": {},
   "outputs": [],
   "source": [
    "taf = Traditional_Accessor_Factory(\n",
    "    labels=ALL_NODES,\n",
    "    domains=ALL_DAYS,\n",
    "    num_examples_per_domain_per_label=100,\n",
    "    pickle_path=os.path.join(get_datasets_base_path(), \"cores.stratified_ds.2022A.pkl\"),\n",
    "    seed=1337\n",
    ")\n",
    "\n",
    "TRAIN = taf.get_train()\n",
    "VAL = taf.get_val()\n",
    "TEST = taf.get_test()\n"
   ]
  },
  {
   "cell_type": "code",
   "execution_count": 3,
   "id": "363b7103-f2cd-439f-b45c-8619a4d894c4",
   "metadata": {},
   "outputs": [],
   "source": [
    "x,y,u = next(iter(TRAIN))"
   ]
  },
  {
   "cell_type": "code",
   "execution_count": 4,
   "id": "9c5c0779-0e1f-45f8-bc0f-623c385f2613",
   "metadata": {},
   "outputs": [
    {
     "data": {
      "text/plain": [
       "(2, 256)"
      ]
     },
     "execution_count": 4,
     "metadata": {},
     "output_type": "execute_result"
    }
   ],
   "source": [
    "x.shape"
   ]
  },
  {
   "cell_type": "markdown",
   "id": "81dce7d7-da2a-426c-b1ae-a898913ee7ce",
   "metadata": {},
   "source": [
    "## The CORES dataset text file claims that each example's IQ is normalized to have unity average magnitude but this is not true\n",
    "\n",
    "Magnitude is the $\\sqrt{a^2+ib^2}$"
   ]
  },
  {
   "cell_type": "code",
   "execution_count": 24,
   "id": "1945407b-da5e-4e64-bede-ba238cd50aeb",
   "metadata": {},
   "outputs": [],
   "source": [
    "def get_average_magnitude(x):\n",
    "    assert x.shape[0] == 2\n",
    "    x_t = x.T\n",
    "    mag = np.linalg.norm(x_t, axis = 1)\n",
    "    assert mag[0] == np.sqrt(np.sum(x_t[0]**2))\n",
    "    \n",
    "    return np.mean(mag)\n",
    "    \n",
    "def normalize_to_unit_magnitude(x):\n",
    "    return x/get_average_magnitude(x)\n",
    "\n",
    "def get_average_power(x):\n",
    "    assert x.shape[0] == 2\n",
    "    x_t = x.T\n",
    "    power = np.linalg.norm(x_t, axis = 1)**2\n",
    "#     assert power[0] == np.sum(x_t[0]**2)\n",
    "    \n",
    "    return np.mean(power)\n",
    "    \n",
    "def normalize_to_unit_power(x):\n",
    "    return x/np.sqrt(get_average_power(x))"
   ]
  },
  {
   "cell_type": "code",
   "execution_count": 6,
   "id": "8344a3b6-17ed-4f4d-b3d9-b87609a15cce",
   "metadata": {},
   "outputs": [
    {
     "name": "stdout",
     "output_type": "stream",
     "text": [
      "Unadulterated CORES average magnitude: 0.008537422318192262\n"
     ]
    }
   ],
   "source": [
    "print(\"Unadulterated CORES average magnitude:\", get_average_magnitude(x))\n",
    "# Obviously not 1.0"
   ]
  },
  {
   "cell_type": "code",
   "execution_count": 7,
   "id": "34d6cb71-d4de-475c-96db-6d8f325ce57c",
   "metadata": {},
   "outputs": [
    {
     "name": "stdout",
     "output_type": "stream",
     "text": [
      "Average magnitude before: 0.008537422318192262\n",
      "Average magnitude after: 1.0\n"
     ]
    }
   ],
   "source": [
    "print(\"Average magnitude before:\", get_average_magnitude(x))\n",
    "print(\"Average magnitude after:\", get_average_magnitude(normalize_to_unit_magnitude(x)))"
   ]
  },
  {
   "cell_type": "code",
   "execution_count": 8,
   "id": "a6788ded-32ea-4d64-817f-294a175854dc",
   "metadata": {},
   "outputs": [
    {
     "name": "stdout",
     "output_type": "stream",
     "text": [
      "Unadulterated CORES average power: 8.411057205651599e-05\n"
     ]
    }
   ],
   "source": [
    "print(\"Unadulterated CORES average power:\", get_average_power(x))\n",
    "# Obviously not 1.0"
   ]
  },
  {
   "cell_type": "code",
   "execution_count": 26,
   "id": "d3c8ec38",
   "metadata": {},
   "outputs": [
    {
     "name": "stdout",
     "output_type": "stream",
     "text": [
      "Average power before: 8.411057205651599e-05\n",
      "Average power after: 1.1539767439406432\n"
     ]
    }
   ],
   "source": [
    "print(\"Average power before:\", get_average_power(x))\n",
    "nrml = x/np.sqrt(get_average_power(x))\n",
    "nrml = x/get_average_magnitude(x)\n",
    "print(\"Average power after:\", get_average_power(nrml))"
   ]
  }
 ],
 "metadata": {
  "kernelspec": {
   "display_name": "Python 3 (ipykernel)",
   "language": "python",
   "name": "python3"
  },
  "language_info": {
   "codemirror_mode": {
    "name": "ipython",
    "version": 3
   },
   "file_extension": ".py",
   "mimetype": "text/x-python",
   "name": "python",
   "nbconvert_exporter": "python",
   "pygments_lexer": "ipython3",
   "version": "3.8.10"
  }
 },
 "nbformat": 4,
 "nbformat_minor": 5
}
